{
 "cells": [
  {
   "cell_type": "code",
   "execution_count": 8,
   "id": "9170c1e3-ea4f-4419-89eb-102f04312654",
   "metadata": {},
   "outputs": [
    {
     "data": {
      "text/plain": [
       "107.08096000000002"
      ]
     },
     "execution_count": 8,
     "metadata": {},
     "output_type": "execute_result"
    }
   ],
   "source": [
    "Rate_in_Hz = 20_000\n",
    "nLPMT = 17612\n",
    "hits_per_ns = Rate_in_Hz/1e9*nLPMT\n",
    "hits_per_ns * 304"
   ]
  },
  {
   "cell_type": "code",
   "execution_count": 9,
   "id": "f8129d53-ac24-4127-8cc0-694899331a71",
   "metadata": {},
   "outputs": [
    {
     "data": {
      "text/plain": [
       "243"
      ]
     },
     "execution_count": 9,
     "metadata": {},
     "output_type": "execute_result"
    }
   ],
   "source": [
    "350-107"
   ]
  },
  {
   "cell_type": "code",
   "execution_count": null,
   "id": "eae90e89-3287-488b-b68d-07c29e4811ca",
   "metadata": {},
   "outputs": [],
   "source": []
  }
 ],
 "metadata": {
  "kernelspec": {
   "display_name": "Python 3 (ipykernel)",
   "language": "python",
   "name": "python3"
  },
  "language_info": {
   "codemirror_mode": {
    "name": "ipython",
    "version": 3
   },
   "file_extension": ".py",
   "mimetype": "text/x-python",
   "name": "python",
   "nbconvert_exporter": "python",
   "pygments_lexer": "ipython3",
   "version": "3.12.3"
  }
 },
 "nbformat": 4,
 "nbformat_minor": 5
}
